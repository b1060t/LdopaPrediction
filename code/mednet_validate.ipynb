{
 "cells": [
  {
   "cell_type": "code",
   "execution_count": 1,
   "metadata": {},
   "outputs": [],
   "source": [
    "import os\n",
    "import os.path\n",
    "import pandas as pd\n",
    "import sys\n",
    "sys.path.append('..')\n",
    "from src.utils.data import writePandas, getPandas, getConfig\n",
    "os.chdir('..')\n",
    "os.getcwd()\n",
    "import seaborn as sns\n",
    "import matplotlib.pyplot as plt\n",
    "data = getPandas('pat_data')\n",
    "conf = getConfig('data')\n",
    "used_inds = conf['indices']['pat']['train'] + conf['indices']['pat']['test']\n",
    "used_inds = conf['indices']['pat']['train']\n",
    "train_inds = conf['indices']['pat']['train']\n",
    "test_inds = conf['indices']['pat']['test']\n",
    "mednet_fe = getPandas('data_radiomic_full_CAT_0.8')\n",
    "mednet_fe = mednet_fe.drop(['KEY'], axis=1)\n",
    "train_data = data.iloc[train_inds]\n",
    "train_good_inds = train_data[train_data['CAT'] == 1].index\n",
    "train_bad_inds = train_data[train_data['CAT'] == 0].index\n",
    "train_good_mednet = mednet_fe.iloc[train_good_inds]\n",
    "train_bad_mednet = mednet_fe.iloc[train_bad_inds]\n",
    "test_data = data.iloc[test_inds]\n",
    "test_good_inds = test_data[test_data['CAT'] == 1].index\n",
    "test_bad_inds = test_data[test_data['CAT'] == 0].index\n",
    "test_good_mednet = mednet_fe.iloc[test_good_inds]\n",
    "test_bad_mednet = mednet_fe.iloc[test_bad_inds]\n",
    "from scipy.stats import pearsonr, ttest_ind"
   ]
  },
  {
   "cell_type": "code",
   "execution_count": 2,
   "metadata": {},
   "outputs": [
    {
     "name": "stdout",
     "output_type": "stream",
     "text": [
      "Texture feature counts (p<0.05): before FDR 9, after FDR 0\n"
     ]
    }
   ],
   "source": [
    "cols = train_good_mednet.columns[1:]\n",
    "from statsmodels.stats.multitest import fdrcorrection, multipletests\n",
    "ps = []\n",
    "for col in cols:\n",
    "    train_good_fe = train_good_mednet[col].values\n",
    "    train_bad_fe = train_bad_mednet[col].values\n",
    "    test_good_fe = test_good_mednet[col].values\n",
    "    test_bad_fe = test_bad_mednet[col].values\n",
    "    p = ttest_ind(train_good_fe, train_bad_fe)[1]\n",
    "    p_test = ttest_ind(test_good_fe, test_bad_fe)[1]\n",
    "    ps.append(p)\n",
    "    #if p < 0.05 and p_test < 0.05:\n",
    "        #print(col, p, p_test)\n",
    "    #if col == 'resnet_13074' or col == 'resnet_12889' or col == 'resnet_810':\n",
    "        #print(col, p, p_test)\n",
    "fdr = fdrcorrection(ps)\n",
    "print('Texture feature counts (p<0.05): before FDR {}, after FDR {}'.format(sum([p < 0.05 for p in ps]), sum(fdr[1] < 0.05)))"
   ]
  },
  {
   "cell_type": "code",
   "execution_count": 3,
   "metadata": {},
   "outputs": [
    {
     "name": "stdout",
     "output_type": "stream",
     "text": [
      "(13824,)\n",
      "(10918,)\n"
     ]
    }
   ],
   "source": [
    "import numpy as np\n",
    "ps = np.array(ps)\n",
    "print(ps.shape)\n",
    "ps = ps[~np.isnan(ps)]\n",
    "print(ps.shape)"
   ]
  },
  {
   "cell_type": "code",
   "execution_count": 4,
   "metadata": {},
   "outputs": [
    {
     "data": {
      "text/plain": [
       "<AxesSubplot: ylabel='Count'>"
      ]
     },
     "execution_count": 4,
     "metadata": {},
     "output_type": "execute_result"
    },
    {
     "data": {
      "image/png": "[encoded data removed]",
      "text/plain": [
       "<Figure size 640x480 with 1 Axes>"
      ]
     },
     "metadata": {},
     "output_type": "display_data"
    }
   ],
   "source": [
    "fdr = fdrcorrection(ps, alpha=0.05)\n",
    "import seaborn as sns\n",
    "sns.histplot(ps, bins=100)"
   ]
  }
 ],
 "metadata": {
  "kernelspec": {
   "display_name": "Python 3",
   "language": "python",
   "name": "python3"
  },
  "language_info": {
   "codemirror_mode": {
    "name": "ipython",
    "version": 3
   },
   "file_extension": ".py",
   "mimetype": "text/x-python",
   "name": "python",
   "nbconvert_exporter": "python",
   "pygments_lexer": "ipython3",
   "version": "3.10.9"
  },
  "orig_nbformat": 4
 },
 "nbformat": 4,
 "nbformat_minor": 2
}
