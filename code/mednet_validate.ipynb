{
 "cells": [
  {
   "cell_type": "code",
   "execution_count": 1,
   "metadata": {},
   "outputs": [],
   "source": [
    "import os\n",
    "import os.path\n",
    "import pandas as pd\n",
    "import sys\n",
    "sys.path.append('..')\n",
    "from src.utils.data import writePandas, getPandas, getConfig\n",
    "os.chdir('..')\n",
    "os.getcwd()\n",
    "import seaborn as sns\n",
    "import matplotlib.pyplot as plt\n",
    "data = getPandas('pat_data')\n",
    "conf = getConfig('data')\n",
    "used_inds = conf['indices']['pat']['train'] + conf['indices']['pat']['test']\n",
    "used_inds = conf['indices']['pat']['train']\n",
    "train_inds = conf['indices']['pat']['train']\n",
    "test_inds = conf['indices']['pat']['test']\n",
    "mednet_fe = getPandas('pat_resnet_8')\n",
    "train_data = data.iloc[train_inds]\n",
    "train_good_inds = train_data[train_data['CAT'] == 1].index\n",
    "train_bad_inds = train_data[train_data['CAT'] == 0].index\n",
    "train_good_mednet = mednet_fe.iloc[train_good_inds]\n",
    "train_bad_mednet = mednet_fe.iloc[train_bad_inds]\n",
    "test_data = data.iloc[test_inds]\n",
    "test_good_inds = test_data[test_data['CAT'] == 1].index\n",
    "test_bad_inds = test_data[test_data['CAT'] == 0].index\n",
    "test_good_mednet = mednet_fe.iloc[test_good_inds]\n",
    "test_bad_mednet = mednet_fe.iloc[test_bad_inds]\n",
    "from scipy.stats import pearsonr, ttest_ind"
   ]
  },
  {
   "cell_type": "code",
   "execution_count": 6,
   "metadata": {},
   "outputs": [
    {
     "name": "stdout",
     "output_type": "stream",
     "text": [
      "resnet_783 0.03510273136028112 0.013755120780654643\n",
      "resnet_1458 0.035473534549101036 0.00993941909479698\n",
      "resnet_3456 0.03324383318136392 0.015874395974889197\n",
      "resnet_5238 0.04251387923174229 0.02029126438997956\n",
      "resnet_7020 0.0007507717033663511 0.0016160430632416812\n",
      "resnet_11313 0.023103375543940784 0.020947505940246657\n",
      "resnet_12555 0.031009674451086596 0.02104698837940386\n"
     ]
    }
   ],
   "source": [
    "cols = train_good_mednet.columns[1:]\n",
    "for col in cols:\n",
    "    train_good_fe = train_good_mednet[col].values\n",
    "    train_bad_fe = train_bad_mednet[col].values\n",
    "    test_good_fe = test_good_mednet[col].values\n",
    "    test_bad_fe = test_bad_mednet[col].values\n",
    "    p = ttest_ind(train_good_fe, train_bad_fe)[1]\n",
    "    p_test = ttest_ind(test_good_fe, test_bad_fe)[1]\n",
    "    if p < 0.05 and p_test < 0.05:\n",
    "        print(col, p, p_test)\n",
    "    #if col == 'resnet_13074' or col == 'resnet_12889' or col == 'resnet_810':\n",
    "        #print(col, p, p_test)"
   ]
  }
 ],
 "metadata": {
  "kernelspec": {
   "display_name": "Python 3",
   "language": "python",
   "name": "python3"
  },
  "language_info": {
   "codemirror_mode": {
    "name": "ipython",
    "version": 3
   },
   "file_extension": ".py",
   "mimetype": "text/x-python",
   "name": "python",
   "nbconvert_exporter": "python",
   "pygments_lexer": "ipython3",
   "version": "3.10.9"
  },
  "orig_nbformat": 4
 },
 "nbformat": 4,
 "nbformat_minor": 2
}
