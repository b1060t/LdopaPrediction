{
 "cells": [
  {
   "cell_type": "code",
   "execution_count": 1,
   "metadata": {},
   "outputs": [
    {
     "data": {
      "text/plain": [
       "'/home/biobot/disk/ldopa'"
      ]
     },
     "execution_count": 1,
     "metadata": {},
     "output_type": "execute_result"
    }
   ],
   "source": [
    "import os\n",
    "import os.path\n",
    "import pandas as pd\n",
    "import sys\n",
    "sys.path.append('..')\n",
    "from src.utils.data import writePandas, getPandas, getConfig, getDict, writeGraph, getGraph\n",
    "from process.preproc_img import ImageStatistics\n",
    "from src.model.feature import load_graph_weight, load_node_degree\n",
    "os.chdir('..')\n",
    "os.getcwd()"
   ]
  },
  {
   "cell_type": "code",
   "execution_count": 2,
   "metadata": {},
   "outputs": [],
   "source": [
    "data = getPandas('pat_data')\n",
    "conf = getConfig('data')\n",
    "train_idx = conf['indices']['pat']['train']\n",
    "test_idx = conf['indices']['pat']['test']\n",
    "train_weights, test_weights = load_graph_weight(data, train_idx, test_idx, None)\n",
    "train_cat = data.loc[train_idx, 'CAT'].to_numpy()\n",
    "test_cat = data.loc[test_idx, 'CAT'].to_numpy()"
   ]
  },
  {
   "cell_type": "code",
   "execution_count": 3,
   "metadata": {},
   "outputs": [],
   "source": [
    "train_neg = train_weights.iloc[train_cat == 0, :]\n",
    "train_pos = train_weights.iloc[train_cat == 1, :]\n",
    "test_pos = test_weights.iloc[test_cat == 1, :]\n",
    "test_neg = test_weights.iloc[test_cat == 0, :]"
   ]
  },
  {
   "cell_type": "code",
   "execution_count": 4,
   "metadata": {},
   "outputs": [
    {
     "data": {
      "text/plain": [
       "46"
      ]
     },
     "execution_count": 4,
     "metadata": {},
     "output_type": "execute_result"
    }
   ],
   "source": [
    "len(test_idx)"
   ]
  },
  {
   "cell_type": "code",
   "execution_count": 5,
   "metadata": {},
   "outputs": [
    {
     "name": "stdout",
     "output_type": "stream",
     "text": [
      "0\n"
     ]
    },
    {
     "data": {
      "text/plain": [
       "<AxesSubplot: ylabel='Count'>"
      ]
     },
     "execution_count": 5,
     "metadata": {},
     "output_type": "execute_result"
    },
    {
     "data": {
      "image/png": "[encoded data removed]",
      "text/plain": [
       "<Figure size 640x480 with 1 Axes>"
      ]
     },
     "metadata": {},
     "output_type": "display_data"
    }
   ],
   "source": [
    "from scipy.stats import ttest_ind, mannwhitneyu\n",
    "from statsmodels.stats.multitest import fdrcorrection\n",
    "ps = []\n",
    "for col in train_neg.columns:\n",
    "    ln = len(train_neg[col])\n",
    "    lp = len(train_pos[col])\n",
    "    train_neg_col = train_neg[col].to_numpy()\n",
    "    train_pos_col = train_pos[col].to_numpy()\n",
    "    test_neg_col = test_neg[col].to_numpy()\n",
    "    test_pos_col = test_pos[col].to_numpy()\n",
    "    train_p = mannwhitneyu(train_neg_col, train_pos_col)[1]\n",
    "    test_p = mannwhitneyu(test_neg_col, test_pos_col)[1]\n",
    "    ps.append(train_p)\n",
    "fdr = fdrcorrection(ps, alpha=0.05)\n",
    "print(sum(fdr[1] < 0.05))\n",
    "import seaborn as sns\n",
    "sns.histplot(fdr[1])"
   ]
  },
  {
   "cell_type": "code",
   "execution_count": 6,
   "metadata": {},
   "outputs": [],
   "source": [
    "params = {}\n",
    "params['global_cols'] = ['cp', 'ge', 'le', 'cpl', 'mod', 'sigma', 'ne', 'spl']\n",
    "params['nodal_cols'] = ['dc', 'bc', 'ncc', 'degree']\n",
    "train_metrics, test_metrics = load_node_degree(data, train_idx, test_idx, params)\n",
    "train_neg = train_metrics.iloc[train_cat == 0, :]\n",
    "train_pos = train_metrics.iloc[train_cat == 1, :]\n",
    "test_neg = test_metrics.iloc[test_cat == 0, :]\n",
    "test_pos = test_metrics.iloc[test_cat == 1, :]"
   ]
  },
  {
   "cell_type": "code",
   "execution_count": 8,
   "metadata": {},
   "outputs": [
    {
     "name": "stdout",
     "output_type": "stream",
     "text": [
      "0\n",
      "Network feature counts (p<0.05): before FDR 19, after FDR 0\n"
     ]
    }
   ],
   "source": [
    "from scipy.stats import ttest_ind\n",
    "import seaborn as sns\n",
    "import matplotlib.pyplot as plt\n",
    "ps = []\n",
    "for col in train_neg.columns:\n",
    "    train_neg_col = train_neg[col].to_numpy().astype(float)\n",
    "    train_pos_col = train_pos[col].to_numpy().astype(float)\n",
    "    test_neg_col = test_neg[col].to_numpy().astype(float)\n",
    "    test_pos_col = test_pos[col].to_numpy().astype(float)\n",
    "    train_p = ttest_ind(train_neg_col, train_pos_col)[1]\n",
    "    test_p = ttest_ind(test_neg_col, test_pos_col)[1]\n",
    "    ps.append(train_p)\n",
    "fdr = fdrcorrection(ps, alpha=0.05)\n",
    "print(sum(fdr[1] < 0.05))\n",
    "print('Network feature counts (p<0.05): before FDR {}, after FDR {}'.format(sum([p < 0.05 for p in ps]), sum(fdr[1] < 0.05)))\n",
    "    #print(\"col: {}, train_p: {}, test_p: {}\".format(col, train_p, test_p))\n",
    "    #if train_p < 0.05:\n",
    "        #sns.histplot(data=train_neg_col, color='blue', alpha=0.5)\n",
    "        #sns.histplot(data=train_pos_col, color='red', alpha=0.5)\n",
    "        #plt.title(\"Train {}\".format(col))\n",
    "        #plt.legend(['neg', 'pos'])\n",
    "        #plt.show()\n",
    "        #sns.histplot(data=test_neg_col, color='blue', alpha=0.5)\n",
    "        #sns.histplot(data=test_pos_col, color='red', alpha=0.5)\n",
    "        #plt.title(\"Test {}\".format(col))\n",
    "        #plt.legend(['neg', 'pos'])\n",
    "        #plt.show()"
   ]
  }
 ],
 "metadata": {
  "kernelspec": {
   "display_name": "Python 3",
   "language": "python",
   "name": "python3"
  },
  "language_info": {
   "codemirror_mode": {
    "name": "ipython",
    "version": 3
   },
   "file_extension": ".py",
   "mimetype": "text/x-python",
   "name": "python",
   "nbconvert_exporter": "python",
   "pygments_lexer": "ipython3",
   "version": "3.10.9"
  },
  "orig_nbformat": 4
 },
 "nbformat": 4,
 "nbformat_minor": 2
}
