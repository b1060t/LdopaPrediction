{
 "cells": [
  {
   "cell_type": "code",
   "execution_count": 1,
   "metadata": {},
   "outputs": [],
   "source": [
    "import torch\n",
    "from torch import nn\n",
    "from models import resnet\n",
    "path = '../../../data/bin/resnet_10.pth'"
   ]
  },
  {
   "cell_type": "code",
   "execution_count": 3,
   "metadata": {},
   "outputs": [
    {
     "data": {
      "text/plain": [
       "<All keys matched successfully>"
      ]
     },
     "execution_count": 3,
     "metadata": {},
     "output_type": "execute_result"
    }
   ],
   "source": [
    "model = resnet.myresnet(\n",
    "    sample_input_W=193,\n",
    "    sample_input_H=229,\n",
    "    sample_input_D=193,\n",
    "    shortcut_type='B',\n",
    "    no_cuda=False\n",
    ")\n",
    "net_dict = model.state_dict()\n",
    "pretrain = torch.load(path, map_location='cuda:0')\n",
    "# remove 'module.'\n",
    "pretrain_dict = {k[7:]: v for k, v in pretrain['state_dict'].items() if k[7:] in net_dict.keys()}\n",
    "\n",
    "net_dict.update(pretrain_dict)\n",
    "model.load_state_dict(net_dict)"
   ]
  },
  {
   "cell_type": "code",
   "execution_count": 4,
   "metadata": {},
   "outputs": [],
   "source": [
    "import sys\n",
    "import os\n",
    "import nibabel as nib\n",
    "import numpy as np\n",
    "import pandas as pd\n",
    "sys.path.append('../..')\n",
    "from src.utils.data import writePandas, getPandas, getConfig, getDict\n",
    "os.chdir('../../..')"
   ]
  },
  {
   "cell_type": "code",
   "execution_count": 5,
   "metadata": {},
   "outputs": [],
   "source": [
    "data = getPandas('pat_data')\n",
    "conf = getConfig('data')\n",
    "train_idx = conf['indices']['pat']['train']\n",
    "test_idx = conf['indices']['pat']['test']\n",
    "keys = data['KEY'].values\n",
    "paths = data['ANTs_Reg'].values"
   ]
  },
  {
   "cell_type": "code",
   "execution_count": 5,
   "metadata": {},
   "outputs": [
    {
     "name": "stdout",
     "output_type": "stream",
     "text": [
      "data/subj/3107V04I296431/ants/reg.nii.gz\n",
      "data/subj/3107V06I378218/ants/reg.nii.gz\n",
      "data/subj/3107V10I498876/ants/reg.nii.gz\n",
      "data/subj/3108V06I378222/ants/reg.nii.gz\n"
     ]
    }
   ],
   "source": [
    "rst = np.array([])\n",
    "model.eval()\n",
    "for path in paths:\n",
    "    print(path)\n",
    "    img = nib.load(path).get_fdata()\n",
    "    i_min = img.min()\n",
    "    i_std = img.std()\n",
    "    img = (img - i_min) / i_std\n",
    "    img = np.expand_dims(img, axis=0)\n",
    "    img = np.expand_dims(img, axis=0)\n",
    "    img = torch.from_numpy(img)\n",
    "    img = img.cpu().float()\n",
    "    output = model(img)\n",
    "    output = output.cpu().detach().numpy()\n",
    "    rst = np.append(rst, output)"
   ]
  },
  {
   "cell_type": "code",
   "execution_count": 6,
   "metadata": {},
   "outputs": [
    {
     "name": "stdout",
     "output_type": "stream",
     "text": [
      "(1, 76800)\n",
      "38856\n"
     ]
    }
   ],
   "source": [
    "model = model.cuda()\n",
    "model.eval()\n",
    "img = nib.load('data/subj/3107V04I296431/ants/reg.nii.gz').get_fdata()\n",
    "i_min = img.min()\n",
    "i_std = img.std()\n",
    "img = (img - i_min) / i_std\n",
    "img = np.expand_dims(img, axis=0)\n",
    "img = np.expand_dims(img, axis=0)\n",
    "img = torch.from_numpy(img)\n",
    "#img = img.cpu().float()\n",
    "img = img.cuda().float()\n",
    "output = model(img)\n",
    "output = output.cpu().detach().numpy()\n",
    "print(output.shape)\n",
    "print(np.count_nonzero(output))"
   ]
  }
 ],
 "metadata": {
  "kernelspec": {
   "display_name": "Python 3",
   "language": "python",
   "name": "python3"
  },
  "language_info": {
   "codemirror_mode": {
    "name": "ipython",
    "version": 3
   },
   "file_extension": ".py",
   "mimetype": "text/x-python",
   "name": "python",
   "nbconvert_exporter": "python",
   "pygments_lexer": "ipython3",
   "version": "3.11.0"
  },
  "orig_nbformat": 4
 },
 "nbformat": 4,
 "nbformat_minor": 2
}
